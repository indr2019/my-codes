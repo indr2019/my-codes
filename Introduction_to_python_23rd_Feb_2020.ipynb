{
  "nbformat": 4,
  "nbformat_minor": 0,
  "metadata": {
    "colab": {
      "name": "Introduction to python - 23rd Feb 2020.ipynb",
      "provenance": [],
      "collapsed_sections": [],
      "authorship_tag": "ABX9TyPc2SlplPAyi5vhRX5EVyhF",
      "include_colab_link": true
    },
    "kernelspec": {
      "name": "python3",
      "display_name": "Python 3"
    }
  },
  "cells": [
    {
      "cell_type": "markdown",
      "metadata": {
        "id": "view-in-github",
        "colab_type": "text"
      },
      "source": [
        "<a href=\"https://colab.research.google.com/github/indr2019/my-codes/blob/master/Introduction_to_python_23rd_Feb_2020.ipynb\" target=\"_parent\"><img src=\"https://colab.research.google.com/assets/colab-badge.svg\" alt=\"Open In Colab\"/></a>"
      ]
    },
    {
      "cell_type": "code",
      "metadata": {
        "id": "XNzg7Sn3O81G",
        "colab_type": "code",
        "outputId": "39e65a9a-7206-4d45-a4d1-ee1ed487b5e1",
        "colab": {
          "base_uri": "https://localhost:8080/",
          "height": 34
        }
      },
      "source": [
        "# form of string\n",
        "name = 'Indranil'\n",
        "print(name)"
      ],
      "execution_count": 0,
      "outputs": [
        {
          "output_type": "stream",
          "text": [
            "Indranil\n"
          ],
          "name": "stdout"
        }
      ]
    },
    {
      "cell_type": "code",
      "metadata": {
        "id": "UYhtf4GRPa01",
        "colab_type": "code",
        "outputId": "f769b2a7-e8c2-4ff0-c799-229bde22a592",
        "colab": {
          "base_uri": "https://localhost:8080/",
          "height": 34
        }
      },
      "source": [
        "# a form of number\n",
        "age = 27\n",
        "age"
      ],
      "execution_count": 0,
      "outputs": [
        {
          "output_type": "execute_result",
          "data": {
            "text/plain": [
              "27"
            ]
          },
          "metadata": {
            "tags": []
          },
          "execution_count": 3
        }
      ]
    },
    {
      "cell_type": "code",
      "metadata": {
        "id": "lAX9cxIeRUy0",
        "colab_type": "code",
        "outputId": "23985339-6599-4a50-f236-f1cd6afd8f87",
        "colab": {
          "base_uri": "https://localhost:8080/",
          "height": 51
        }
      },
      "source": [
        "# print multiple variables\n",
        "print(name)\n",
        "print(age)"
      ],
      "execution_count": 0,
      "outputs": [
        {
          "output_type": "stream",
          "text": [
            "Indranil\n",
            "27\n"
          ],
          "name": "stdout"
        }
      ]
    },
    {
      "cell_type": "code",
      "metadata": {
        "id": "iyKhxbajSFTL",
        "colab_type": "code",
        "outputId": "3ea9f64a-7460-417d-c996-d170d945f2e3",
        "colab": {
          "base_uri": "https://localhost:8080/",
          "height": 34
        }
      },
      "source": [
        "# boolean values\n",
        "male = True\n",
        "male"
      ],
      "execution_count": 0,
      "outputs": [
        {
          "output_type": "execute_result",
          "data": {
            "text/plain": [
              "True"
            ]
          },
          "metadata": {
            "tags": []
          },
          "execution_count": 8
        }
      ]
    },
    {
      "cell_type": "code",
      "metadata": {
        "id": "5mwKP-mETasN",
        "colab_type": "code",
        "outputId": "d7493bb9-c273-4f81-83a6-d4c1867d6907",
        "colab": {
          "base_uri": "https://localhost:8080/",
          "height": 34
        }
      },
      "source": [
        "# floating numbers\n",
        "percentage = 65.96\n",
        "percentage\n"
      ],
      "execution_count": 0,
      "outputs": [
        {
          "output_type": "execute_result",
          "data": {
            "text/plain": [
              "65.96"
            ]
          },
          "metadata": {
            "tags": []
          },
          "execution_count": 12
        }
      ]
    },
    {
      "cell_type": "markdown",
      "metadata": {
        "id": "cPU2vDPeUr9R",
        "colab_type": "text"
      },
      "source": [
        "Creating a list\n",
        "\n",
        "A list will store a group of variables\n"
      ]
    },
    {
      "cell_type": "code",
      "metadata": {
        "id": "_TjZCME6UvMQ",
        "colab_type": "code",
        "outputId": "e8e510ef-83aa-4d4a-c836-49b8dfa2f175",
        "colab": {
          "base_uri": "https://localhost:8080/",
          "height": 34
        }
      },
      "source": [
        "marks = [27, 69.5, 'Indranil', True]\n",
        "marks"
      ],
      "execution_count": 0,
      "outputs": [
        {
          "output_type": "execute_result",
          "data": {
            "text/plain": [
              "[27, 69.5, 'Indranil', True]"
            ]
          },
          "metadata": {
            "tags": []
          },
          "execution_count": 37
        }
      ]
    },
    {
      "cell_type": "code",
      "metadata": {
        "id": "PVUwjF_YeoxQ",
        "colab_type": "code",
        "outputId": "bca318fd-3f21-489e-d4a6-acd789048ac0",
        "colab": {
          "base_uri": "https://localhost:8080/",
          "height": 34
        }
      },
      "source": [
        "len(marks)"
      ],
      "execution_count": 0,
      "outputs": [
        {
          "output_type": "execute_result",
          "data": {
            "text/plain": [
              "4"
            ]
          },
          "metadata": {
            "tags": []
          },
          "execution_count": 45
        }
      ]
    },
    {
      "cell_type": "code",
      "metadata": {
        "id": "WQyjV7RZV3ls",
        "colab_type": "code",
        "outputId": "993cc851-493a-492d-db25-558c114a3d2d",
        "colab": {
          "base_uri": "https://localhost:8080/",
          "height": 34
        }
      },
      "source": [
        "#printing out only the name from the list\n",
        "list[2]"
      ],
      "execution_count": 0,
      "outputs": [
        {
          "output_type": "execute_result",
          "data": {
            "text/plain": [
              "'Indranil'"
            ]
          },
          "metadata": {
            "tags": []
          },
          "execution_count": 16
        }
      ]
    },
    {
      "cell_type": "code",
      "metadata": {
        "id": "z_bBGyD9WE8L",
        "colab_type": "code",
        "colab": {}
      },
      "source": [
        "# create a dictionary\n",
        "education = {'graduation':56,\n",
        "             'male': True,\n",
        "             'name' : 'Indranil',\n",
        "             'tenth':69,\n",
        "             'diploma':75}\n"
      ],
      "execution_count": 0,
      "outputs": []
    },
    {
      "cell_type": "code",
      "metadata": {
        "id": "dCpIaq1wYp8u",
        "colab_type": "code",
        "outputId": "fca7d028-4bf2-4d0c-e78e-51cfd893d87c",
        "colab": {
          "base_uri": "https://localhost:8080/",
          "height": 102
        }
      },
      "source": [
        "education"
      ],
      "execution_count": 0,
      "outputs": [
        {
          "output_type": "execute_result",
          "data": {
            "text/plain": [
              "{'diploma': 75,\n",
              " 'graduation': 56,\n",
              " 'male': True,\n",
              " 'name': 'Indranil',\n",
              " 'tenth': 69}"
            ]
          },
          "metadata": {
            "tags": []
          },
          "execution_count": 21
        }
      ]
    },
    {
      "cell_type": "code",
      "metadata": {
        "id": "pNL6w6gKZT-B",
        "colab_type": "code",
        "outputId": "3af414a1-63e4-48a2-d57a-16b1708cbed2",
        "colab": {
          "base_uri": "https://localhost:8080/",
          "height": 34
        }
      },
      "source": [
        "# printing out only one particular key value\n",
        "education['name']"
      ],
      "execution_count": 0,
      "outputs": [
        {
          "output_type": "execute_result",
          "data": {
            "text/plain": [
              "'Indranil'"
            ]
          },
          "metadata": {
            "tags": []
          },
          "execution_count": 23
        }
      ]
    },
    {
      "cell_type": "code",
      "metadata": {
        "id": "2x5YLBHBZowd",
        "colab_type": "code",
        "outputId": "fd66c610-45e5-4967-c2fe-d20fefceed90",
        "colab": {
          "base_uri": "https://localhost:8080/",
          "height": 34
        }
      },
      "source": [
        "# printing only the keys\n",
        "education.keys()"
      ],
      "execution_count": 0,
      "outputs": [
        {
          "output_type": "execute_result",
          "data": {
            "text/plain": [
              "dict_keys(['graduation', 'male', 'name', 'tenth', 'diploma'])"
            ]
          },
          "metadata": {
            "tags": []
          },
          "execution_count": 24
        }
      ]
    },
    {
      "cell_type": "code",
      "metadata": {
        "id": "pH-tZMRSZ_hc",
        "colab_type": "code",
        "outputId": "287526f9-2d4b-40ac-dfee-1eaf7a73ad76",
        "colab": {
          "base_uri": "https://localhost:8080/",
          "height": 34
        }
      },
      "source": [
        "# printing out only the key values\n",
        "education.values()"
      ],
      "execution_count": 0,
      "outputs": [
        {
          "output_type": "execute_result",
          "data": {
            "text/plain": [
              "dict_values([56, True, 'Indranil', 69, 75])"
            ]
          },
          "metadata": {
            "tags": []
          },
          "execution_count": 25
        }
      ]
    },
    {
      "cell_type": "code",
      "metadata": {
        "id": "6QNMcTkRaRDM",
        "colab_type": "code",
        "colab": {}
      },
      "source": [
        "# make a dictionary containing a list\n",
        "students = {'stud1' : [75, 26, 85.63],\n",
        "            'stud2' : [84, 24, 96.21],\n",
        "            'stud3' : [86, 27, 89.23]}\n"
      ],
      "execution_count": 0,
      "outputs": []
    },
    {
      "cell_type": "code",
      "metadata": {
        "id": "6S_AJJKeczew",
        "colab_type": "code",
        "outputId": "343cd3cf-76aa-4f3d-c8e2-48308d300505",
        "colab": {
          "base_uri": "https://localhost:8080/",
          "height": 34
        }
      },
      "source": [
        "# print the marks for student 2 only graduation score\n",
        "students['stud2'][-1]"
      ],
      "execution_count": 0,
      "outputs": [
        {
          "output_type": "execute_result",
          "data": {
            "text/plain": [
              "96.21"
            ]
          },
          "metadata": {
            "tags": []
          },
          "execution_count": 36
        }
      ]
    },
    {
      "cell_type": "code",
      "metadata": {
        "id": "Ryc5BpDrb055",
        "colab_type": "code",
        "colab": {}
      },
      "source": [
        "# make a list contianing a dictionary\n",
        "friends = [{'name': 'Indranil', 'age' : 27}, {'name' : 'Pravin', 'age': 36}]"
      ],
      "execution_count": 0,
      "outputs": []
    },
    {
      "cell_type": "code",
      "metadata": {
        "id": "tmM-t-72ca-f",
        "colab_type": "code",
        "outputId": "a9e2712a-5720-4e47-fc70-051b574b1e61",
        "colab": {
          "base_uri": "https://localhost:8080/",
          "height": 34
        }
      },
      "source": [
        "students"
      ],
      "execution_count": 0,
      "outputs": [
        {
          "output_type": "execute_result",
          "data": {
            "text/plain": [
              "{'stud1': [75, 26, 85.63], 'stud2': [84, 24, 96.21], 'stud3': [86, 27, 89.23]}"
            ]
          },
          "metadata": {
            "tags": []
          },
          "execution_count": 28
        }
      ]
    },
    {
      "cell_type": "code",
      "metadata": {
        "id": "zFaapIgoccgR",
        "colab_type": "code",
        "outputId": "1d246c36-203f-4f0a-8c99-3736c4f7c3b1",
        "colab": {
          "base_uri": "https://localhost:8080/",
          "height": 34
        }
      },
      "source": [
        "friends"
      ],
      "execution_count": 0,
      "outputs": [
        {
          "output_type": "execute_result",
          "data": {
            "text/plain": [
              "[{'age': 27, 'name': 'Indranil'}, {'age': 36, 'name': 'Pravin'}]"
            ]
          },
          "metadata": {
            "tags": []
          },
          "execution_count": 29
        }
      ]
    },
    {
      "cell_type": "code",
      "metadata": {
        "id": "TqEGPpKPfZdy",
        "colab_type": "code",
        "outputId": "c79673d5-b72b-4ea6-97d0-9a8fc2dfda67",
        "colab": {
          "base_uri": "https://localhost:8080/",
          "height": 34
        }
      },
      "source": [
        "# printing the type of variable\n",
        "type(marks)"
      ],
      "execution_count": 0,
      "outputs": [
        {
          "output_type": "execute_result",
          "data": {
            "text/plain": [
              "list"
            ]
          },
          "metadata": {
            "tags": []
          },
          "execution_count": 42
        }
      ]
    },
    {
      "cell_type": "code",
      "metadata": {
        "id": "PYjcmg-HiL-G",
        "colab_type": "code",
        "outputId": "e6bbaf56-3ff8-4aa8-d05f-bce3b160ccf3",
        "colab": {
          "base_uri": "https://localhost:8080/",
          "height": 34
        }
      },
      "source": [
        "# create a new list with name of friends\n",
        "my_frnds = ['abc', 'def', 'kjl']\n",
        "my_frnds"
      ],
      "execution_count": 0,
      "outputs": [
        {
          "output_type": "execute_result",
          "data": {
            "text/plain": [
              "['abc', 'def', 'kjl']"
            ]
          },
          "metadata": {
            "tags": []
          },
          "execution_count": 72
        }
      ]
    },
    {
      "cell_type": "code",
      "metadata": {
        "id": "DkfbPmbfi1Qs",
        "colab_type": "code",
        "outputId": "839837dd-e081-4a05-9eef-7708968d5921",
        "colab": {
          "base_uri": "https://localhost:8080/",
          "height": 34
        }
      },
      "source": [
        "# appending a data to end of list\n",
        "my_frnds.append('hmn')\n",
        "my_frnds"
      ],
      "execution_count": 0,
      "outputs": [
        {
          "output_type": "execute_result",
          "data": {
            "text/plain": [
              "['abc', 'def', 'kjl', 'hmn']"
            ]
          },
          "metadata": {
            "tags": []
          },
          "execution_count": 73
        }
      ]
    },
    {
      "cell_type": "code",
      "metadata": {
        "id": "wgpSI_SalOHP",
        "colab_type": "code",
        "outputId": "93131921-88bc-418d-9a88-6f62ae1ae293",
        "colab": {
          "base_uri": "https://localhost:8080/",
          "height": 34
        }
      },
      "source": [
        "# inserting a data at a particular position in the list\n",
        "my_frnds.insert(1, 'lij')\n",
        "my_frnds"
      ],
      "execution_count": 0,
      "outputs": [
        {
          "output_type": "execute_result",
          "data": {
            "text/plain": [
              "['abc', 'lij', 'def', 'kjl', 'hmn']"
            ]
          },
          "metadata": {
            "tags": []
          },
          "execution_count": 74
        }
      ]
    },
    {
      "cell_type": "code",
      "metadata": {
        "id": "Cm4CZoZUloRH",
        "colab_type": "code",
        "colab": {}
      },
      "source": [
        ""
      ],
      "execution_count": 0,
      "outputs": []
    }
  ]
}